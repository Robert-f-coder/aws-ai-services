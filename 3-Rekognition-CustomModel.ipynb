{
 "cells": [
  {
   "cell_type": "markdown",
   "metadata": {},
   "source": [
    "# Custom Label's using Amazon Rekognition"
   ]
  },
  {
   "cell_type": "markdown",
   "metadata": {},
   "source": [
    "***\n",
    "This notebook provides a walkthrough of [object detection API](https://docs.aws.amazon.com/rekognition/latest/dg/labels.html) in Amazon Rekognition to identify objects.\n",
    "***"
   ]
  },
  {
   "cell_type": "markdown",
   "metadata": {},
   "source": [
    "# Initialize SageMaker Notebook Environment"
   ]
  },
  {
   "cell_type": "code",
   "execution_count": 8,
   "metadata": {},
   "outputs": [],
   "source": [
    "# Initialise Notebook\n",
    "\n",
    "import boto3\n",
    "import botocore\n",
    "from botocore.config import Config\n",
    "import datetime\n",
    "from dateutil.tz import tzlocal\n",
    "import os\n"
   ]
  },
  {
   "cell_type": "code",
   "execution_count": 14,
   "metadata": {},
   "outputs": [],
   "source": [
    "# Curent AWS Region. Use this to choose corresponding S3 bucket with sample content\n",
    "\n",
    "assume_role_cache: dict = {}\n",
    "def assumed_role_session(role_arn: str, base_session: botocore.session.Session = None):\n",
    "    base_session = base_session or boto3.session.Session()._session\n",
    "    fetcher = botocore.credentials.AssumeRoleCredentialFetcher(\n",
    "        client_creator = base_session.create_client,\n",
    "        source_credentials = base_session.get_credentials(),\n",
    "        role_arn = role_arn,\n",
    "        extra_args = {\n",
    "        #    'RoleSessionName': None # set this if you want something non-default\n",
    "        }\n",
    "    )\n",
    "    stscredentials = botocore.credentials.DeferredRefreshableCredentials(\n",
    "        method = 'assume-role',\n",
    "        refresh_using = fetcher.fetch_credentials,\n",
    "        time_fetcher = lambda: datetime.datetime.now(tzlocal())\n",
    "    )\n",
    "    botocore_session = botocore.session.Session()\n",
    "    botocore_session._credentials = stscredentials\n",
    "    return boto3.Session(botocore_session = botocore_session)\n",
    "\n",
    "session = assumed_role_session('arn:aws:iam::744458063302:role/RekognitionCustomLabels')\n",
    "\n",
    "\n",
    "#mySession = boto3.session.Session()\n",
    "awsRegion = session.region_name\n",
    "\n",
    "my_config = Config(\n",
    "    region_name = 'us-east-1',\n",
    "    signature_version = 'v4',\n",
    "    retries = {\n",
    "        'max_attempts': 10,\n",
    "        'mode': 'standard'\n",
    "    }\n",
    ")"
   ]
  },
  {
   "cell_type": "code",
   "execution_count": 15,
   "metadata": {},
   "outputs": [],
   "source": [
    "# Init clients\n",
    "rekognition = session.client('rekognition', config=my_config)\n",
    "s3 = boto3.client('s3')"
   ]
  },
  {
   "cell_type": "code",
   "execution_count": 16,
   "metadata": {},
   "outputs": [
    {
     "name": "stdout",
     "output_type": "stream",
     "text": [
      "[{'ProjectArn': 'arn:aws:rekognition:us-east-1:744458063302:project/M2C-GPS304-CustomModel/1636137228257', 'CreationTimestamp': datetime.datetime(2021, 11, 5, 11, 33, 48, 257000, tzinfo=tzlocal()), 'Status': 'CREATED'}, {'ProjectArn': 'arn:aws:rekognition:us-east-1:744458063302:project/project/1632518713009', 'CreationTimestamp': datetime.datetime(2021, 9, 24, 14, 25, 13, 9000, tzinfo=tzlocal()), 'Status': 'CREATED'}]\n"
     ]
    }
   ],
   "source": [
    "# S3 bucket that contains sample images and videos\n",
    "\n",
    "# We are providing sample images and videos in this bucket so\n",
    "# you do not have to manually download/upload test images and videos.\n",
    "\n",
    "projects = rekognition.describe_projects(\n",
    "    )\n",
    "\n",
    "print(projects['ProjectDescriptions'])"
   ]
  },
  {
   "cell_type": "code",
   "execution_count": null,
   "metadata": {},
   "outputs": [],
   "source": [
    "# Create temporary directory\n",
    "# This directory is not needed to call Rekognition APIs.\n",
    "# We will only use this directory to download images from S3 bucket and draw bounding boxes\n",
    "\n",
    "!mkdir m1tmp\n",
    "tempFolder = 'm1tmp/'"
   ]
  }
 ],
 "metadata": {
  "interpreter": {
   "hash": "aee8b7b246df8f9039afb4144a1f6fd8d2ca17a180786b69acc140d282b71a49"
  },
  "kernelspec": {
   "display_name": "Python 3.9.7 64-bit",
   "name": "python3"
  },
  "language_info": {
   "codemirror_mode": {
    "name": "ipython",
    "version": 3
   },
   "file_extension": ".py",
   "mimetype": "text/x-python",
   "name": "python",
   "nbconvert_exporter": "python",
   "pygments_lexer": "ipython3",
   "version": "3.9.7"
  }
 },
 "nbformat": 4,
 "nbformat_minor": 4
}
